{
 "cells": [
  {
   "cell_type": "code",
   "execution_count": null,
   "metadata": {},
   "outputs": [],
   "source": [
    "# In this Jupyter Notebook we show how to use the Boto3 library to:\n",
    "#       - Make a connection to a MinIO client and bucket.\n",
    "#       - Download a specific file.\n",
    "#       - Use the now local file in a \"random forrest example\".\n",
    "#       - Create a pickle out of the model.\n",
    "#       - Upload the pickle back to the bucket."
   ]
  },
  {
   "cell_type": "code",
   "execution_count": 4,
   "metadata": {},
   "outputs": [],
   "source": [
    "# #!/usr/bin/env/python\n",
    "import os\n",
    "import boto3\n",
    "from botocore.client import Config\n",
    "import pandas as pd\n",
    "\n",
    "s3 = boto3.resource('s3',\n",
    "                    endpoint_url='https://s3.deltares.nl',\n",
    "                    aws_access_key_id='<<ACCESS KEY ID>>',\n",
    "                    aws_secret_access_key='<<SECRET ACCESS KEY>>',\n",
    "                    config=Config(signature_version='s3v4'),\n",
    "                    region_name='eu-west-1')\n",
    "\n",
    "bucket_name = 'minio-training'\n",
    "file_path = 'timeseries_backup.json'\n",
    "\n",
    "s3.Bucket(bucket_name).download_file(file_path, 'timeseries_backup.json')"
   ]
  },
  {
   "cell_type": "code",
   "execution_count": 2,
   "metadata": {},
   "outputs": [
    {
     "name": "stdout",
     "output_type": "stream",
     "text": [
      "   Student_id  Age      Grade Employed  marks\n",
      "0           1   19  1st Class      yes     29\n",
      "1           2   20  2nd Class       no     41\n",
      "2           3   18  1st Class       no     57\n",
      "3           4   21  2nd Class       no     29\n",
      "4           5   19  1st Class       no     57\n",
      "       Student_id         Age       marks\n",
      "count  232.000000  232.000000  232.000000\n",
      "mean   116.500000   19.896552   58.689655\n",
      "std     67.116814    1.030944   23.200580\n",
      "min      1.000000   18.000000   20.000000\n",
      "25%     58.750000   19.000000   37.000000\n",
      "50%    116.500000   20.000000   59.500000\n",
      "75%    174.250000   21.000000   77.000000\n",
      "max    232.000000   22.000000   98.000000\n"
     ]
    }
   ],
   "source": [
    "# Load dataset into Pandas DataFrame\n",
    "dataset = pd.read_csv(file_path)\n",
    "\n",
    "# Explore dataset\n",
    "print(dataset.head())  # View first few rows of data\n",
    "print(dataset.describe())  # Statistical summary of the dataset"
   ]
  },
  {
   "cell_type": "code",
   "execution_count": 3,
   "metadata": {},
   "outputs": [
    {
     "name": "stdout",
     "output_type": "stream",
     "text": [
      "Model Accuracy: 1.0\n"
     ]
    }
   ],
   "source": [
    "# Perform data preprocessing (e.g., handle missing values, encode categorical variables)\n",
    "# Preprocessing steps here...\n",
    "\n",
    "from sklearn.model_selection import train_test_split\n",
    "from sklearn.ensemble import RandomForestClassifier\n",
    "from sklearn.metrics import accuracy_score\n",
    "\n",
    "dataset = dataset.drop('Employed', axis=1)\n",
    "\n",
    "# Prepare data for modeling\n",
    "X = dataset.drop('Grade', axis=1)  # Features (excluding target column)\n",
    "y = dataset['Age']  # Target variable\n",
    "\n",
    "# Split dataset into train and test sets\n",
    "X_train, X_test, y_train, y_test = train_test_split(X, y, test_size=0.2, random_state=42)\n",
    "\n",
    "# Initialize and train a RandomForestClassifier model\n",
    "model = RandomForestClassifier(n_estimators=100, random_state=42)\n",
    "model.fit(X_train, y_train)\n",
    "\n",
    "# Predict using the trained model\n",
    "predictions = model.predict(X_test)\n",
    "\n",
    "# Evaluate model performance\n",
    "accuracy = accuracy_score(y_test, predictions)\n",
    "print(f'Model Accuracy: {accuracy}')"
   ]
  },
  {
   "cell_type": "code",
   "execution_count": 4,
   "metadata": {},
   "outputs": [
    {
     "data": {
      "text/plain": [
       "['model.pkl']"
      ]
     },
     "execution_count": 4,
     "metadata": {},
     "output_type": "execute_result"
    }
   ],
   "source": [
    "import joblib\n",
    "\n",
    "# Save the trained model using joblib\n",
    "model_file_path = 'model.pkl'  # Replace with your desired file path and name\n",
    "\n",
    "joblib.dump(model, model_file_path)"
   ]
  },
  {
   "cell_type": "code",
   "execution_count": 5,
   "metadata": {},
   "outputs": [],
   "source": [
    "# Upload the model file to MinIO bucket\n",
    "s3.Bucket(bucket_name).upload_file(model_file_path, model_file_path)"
   ]
  }
 ],
 "metadata": {
  "kernelspec": {
   "display_name": "base",
   "language": "python",
   "name": "python3"
  },
  "language_info": {
   "codemirror_mode": {
    "name": "ipython",
    "version": 3
   },
   "file_extension": ".py",
   "mimetype": "text/x-python",
   "name": "python",
   "nbconvert_exporter": "python",
   "pygments_lexer": "ipython3",
   "version": "3.9.18"
  }
 },
 "nbformat": 4,
 "nbformat_minor": 2
}
