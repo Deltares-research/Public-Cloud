{
 "cells": [
  {
   "cell_type": "code",
   "execution_count": null,
   "metadata": {},
   "outputs": [],
   "source": [
    "# #!/usr/bin/env/python\n",
    "import os\n",
    "import boto3\n",
    "from botocore.client import Config\n",
    "import pandas as pd\n",
    "\n",
    "s3 = boto3.resource('s3',\n",
    "                    endpoint_url='https://s3.deltares.nl',\n",
    "                    aws_access_key_id='<<ACCESS KEY ID>>',\n",
    "                    aws_secret_access_key='<<SECRET ACCESS KEY>>',\n",
    "                    config=Config(signature_version='s3v4'),\n",
    "                    region_name='eu-west-1')\n",
    "\n",
    "bucket_name = 'floristest'\n",
    "file_path = 'Timeseries_backup.json'\n",
    "\n",
    "s3.Bucket(bucket_name).download_file(file_path, 'Timeseries_backup.json')"
   ]
  },
  {
   "cell_type": "code",
   "execution_count": null,
   "metadata": {},
   "outputs": [],
   "source": [
    "# Upload the model file to MinIO bucket\n",
    "s3.Bucket(bucket_name).upload_file('Timeseries_backup.json', file_path)"
   ]
  }
 ],
 "metadata": {
  "language_info": {
   "name": "python"
  }
 },
 "nbformat": 4,
 "nbformat_minor": 2
}
