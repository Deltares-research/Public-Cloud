{
 "cells": [
  {
   "cell_type": "code",
   "execution_count": 2,
   "metadata": {},
   "outputs": [],
   "source": [
    "# #!/usr/bin/env/python\n",
    "import os\n",
    "import boto3\n",
    "from botocore.client import Config\n",
    "import pandas as pd\n",
    "\n",
    "s3 = boto3.resource('s3',\n",
    "                    endpoint_url='https://s3.deltares.nl',\n",
    "                    aws_access_key_id='<<ACCESS KEY ID>>',\n",
    "                    aws_secret_access_key='<<SECRET ACCESS KEY>>',\n",
    "                    config=Config(signature_version='s3v4'),\n",
    "                    region_name='eu-west-1')\n",
    "\n",
    "bucket_name = 'minio-training'\n",
    "file_path = 'timeseries_backup.json'\n",
    "\n",
    "s3.Bucket(bucket_name).download_file(file_path, 'timeseries_backup.json')"
   ]
  },
  {
   "cell_type": "code",
   "execution_count": null,
   "metadata": {},
   "outputs": [],
   "source": [
    "# Upload the model file to MinIO bucket\n",
    "s3.Bucket(bucket_name).upload_file('timeseries_backup.json', file_path)"
   ]
  }
 ],
 "metadata": {
  "kernelspec": {
   "display_name": "Python 3",
   "language": "python",
   "name": "python3"
  },
  "language_info": {
   "codemirror_mode": {
    "name": "ipython",
    "version": 3
   },
   "file_extension": ".py",
   "mimetype": "text/x-python",
   "name": "python",
   "nbconvert_exporter": "python",
   "pygments_lexer": "ipython3",
   "version": "3.10.11"
  }
 },
 "nbformat": 4,
 "nbformat_minor": 2
}
