{
 "cells": [
  {
   "cell_type": "code",
   "execution_count": 1,
   "metadata": {},
   "outputs": [],
   "source": [
    "# #!/usr/bin/env/python\n",
    "import os\n",
    "import boto3\n",
    "from botocore.client import Config\n",
    "import pandas as pd\n",
    "\n",
    "s3 = boto3.resource('s3',\n",
    "                    endpoint_url='https://s3.deltares.nl',\n",
    "                    aws_access_key_id='<<ACCESS KEY ID>>',\n",
    "                    aws_secret_access_key='<<SECRET ACCESS KEY>>',\n",
    "                    config=Config(signature_version='s3v4'),\n",
    "                    region_name='eu-west-1')\n",
    "\n",
    "bucket_name = 'floristest'"
   ]
  },
  {
   "cell_type": "code",
   "execution_count": 3,
   "metadata": {},
   "outputs": [
    {
     "name": "stdout",
     "output_type": "stream",
     "text": [
      "Part of the object downloaded successfully!\n"
     ]
    }
   ],
   "source": [
    "# Define the object key and range\n",
    "object_key = 'dataset_part.csv'\n",
    "start_byte = 0\n",
    "end_byte = 10  # End byte is exclusive, so it will download bytes from 0 to 999\n",
    "\n",
    "# Get the object\n",
    "obj = s3.Object(bucket_name, object_key)\n",
    "\n",
    "# Download a part of the object\n",
    "response = obj.get(Range=f'bytes={start_byte}-{end_byte}')\n",
    "\n",
    "# Read the content of the response\n",
    "data = response['Body'].read()\n",
    "\n",
    "# Save the downloaded data to a file\n",
    "with open(object_key, 'wb') as file:\n",
    "    file.write(data)\n",
    "\n",
    "print(\"Part of the object downloaded successfully!\")\n"
   ]
  }
 ],
 "metadata": {
  "kernelspec": {
   "display_name": "Python 3",
   "language": "python",
   "name": "python3"
  },
  "language_info": {
   "codemirror_mode": {
    "name": "ipython",
    "version": 3
   },
   "file_extension": ".py",
   "mimetype": "text/x-python",
   "name": "python",
   "nbconvert_exporter": "python",
   "pygments_lexer": "ipython3",
   "version": "3.10.11"
  }
 },
 "nbformat": 4,
 "nbformat_minor": 2
}
